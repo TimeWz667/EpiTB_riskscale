{
 "cells": [
  {
   "cell_type": "code",
   "execution_count": 1,
   "id": "b2c77942-2cac-41a8-929e-ebd25ff5324e",
   "metadata": {},
   "outputs": [],
   "source": [
    "from risk import Group, fill_tags\n",
    "import pandas as pd\n",
    "import json\n",
    "import os"
   ]
  },
  {
   "cell_type": "code",
   "execution_count": 2,
   "id": "ff9584db-ff0f-43b1-b9d5-156d74729732",
   "metadata": {},
   "outputs": [],
   "source": [
    "def build_population(sel_pop):\n",
    "    pop = list()\n",
    "\n",
    "    for _, row in sel_pop.iterrows():\n",
    "        age = row.Age\n",
    "        pop.append(Group(age, 'm', row['PopMale']))\n",
    "        pop.append(Group(age, 'f', row['PopFemale']))\n",
    "\n",
    "    return pop    "
   ]
  },
  {
   "cell_type": "code",
   "execution_count": 3,
   "id": "81b6ef40-f907-4e9a-b874-11bd6e9d428a",
   "metadata": {},
   "outputs": [],
   "source": [
    "gho_risk = pd.read_csv('data/gho_risk.csv')\n",
    "wpp_pop = pd.read_csv('data/wpp_pop.csv')"
   ]
  },
  {
   "cell_type": "code",
   "execution_count": 4,
   "id": "e9b497fb-0d8a-4ad1-9881-5a7222f45452",
   "metadata": {},
   "outputs": [
    {
     "data": {
      "text/html": [
       "<div>\n",
       "<style scoped>\n",
       "    .dataframe tbody tr th:only-of-type {\n",
       "        vertical-align: middle;\n",
       "    }\n",
       "\n",
       "    .dataframe tbody tr th {\n",
       "        vertical-align: top;\n",
       "    }\n",
       "\n",
       "    .dataframe thead th {\n",
       "        text-align: right;\n",
       "    }\n",
       "</style>\n",
       "<table border=\"1\" class=\"dataframe\">\n",
       "  <thead>\n",
       "    <tr style=\"text-align: right;\">\n",
       "      <th></th>\n",
       "      <th>Country</th>\n",
       "      <th>Und_all_a</th>\n",
       "      <th>HIV_1549_a</th>\n",
       "      <th>Smoking_15_f</th>\n",
       "      <th>Smoking_15_m</th>\n",
       "      <th>Dia_18_f</th>\n",
       "      <th>Dia_18_m</th>\n",
       "      <th>Alc_15_f</th>\n",
       "      <th>Alc_15_m</th>\n",
       "    </tr>\n",
       "  </thead>\n",
       "  <tbody>\n",
       "    <tr>\n",
       "      <th>0</th>\n",
       "      <td>Brazil</td>\n",
       "      <td>0.025</td>\n",
       "      <td>0.005</td>\n",
       "      <td>0.095</td>\n",
       "      <td>0.17</td>\n",
       "      <td>0.087</td>\n",
       "      <td>0.078</td>\n",
       "      <td>0.016</td>\n",
       "      <td>0.069</td>\n",
       "    </tr>\n",
       "    <tr>\n",
       "      <th>1</th>\n",
       "      <td>India</td>\n",
       "      <td>0.140</td>\n",
       "      <td>0.002</td>\n",
       "      <td>0.014</td>\n",
       "      <td>0.22</td>\n",
       "      <td>0.083</td>\n",
       "      <td>0.091</td>\n",
       "      <td>0.005</td>\n",
       "      <td>0.091</td>\n",
       "    </tr>\n",
       "    <tr>\n",
       "      <th>2</th>\n",
       "      <td>Kenya</td>\n",
       "      <td>0.230</td>\n",
       "      <td>0.045</td>\n",
       "      <td>0.010</td>\n",
       "      <td>0.20</td>\n",
       "      <td>0.062</td>\n",
       "      <td>0.058</td>\n",
       "      <td>0.009</td>\n",
       "      <td>0.071</td>\n",
       "    </tr>\n",
       "    <tr>\n",
       "      <th>3</th>\n",
       "      <td>South Africa</td>\n",
       "      <td>0.057</td>\n",
       "      <td>0.190</td>\n",
       "      <td>0.071</td>\n",
       "      <td>0.34</td>\n",
       "      <td>0.130</td>\n",
       "      <td>0.097</td>\n",
       "      <td>0.018</td>\n",
       "      <td>0.120</td>\n",
       "    </tr>\n",
       "  </tbody>\n",
       "</table>\n",
       "</div>"
      ],
      "text/plain": [
       "        Country  Und_all_a  HIV_1549_a  Smoking_15_f  Smoking_15_m  Dia_18_f  \\\n",
       "0        Brazil      0.025       0.005         0.095          0.17     0.087   \n",
       "1         India      0.140       0.002         0.014          0.22     0.083   \n",
       "2         Kenya      0.230       0.045         0.010          0.20     0.062   \n",
       "3  South Africa      0.057       0.190         0.071          0.34     0.130   \n",
       "\n",
       "   Dia_18_m  Alc_15_f  Alc_15_m  \n",
       "0     0.078     0.016     0.069  \n",
       "1     0.091     0.005     0.091  \n",
       "2     0.058     0.009     0.071  \n",
       "3     0.097     0.018     0.120  "
      ]
     },
     "execution_count": 4,
     "metadata": {},
     "output_type": "execute_result"
    }
   ],
   "source": [
    "gho_risk.head()"
   ]
  },
  {
   "cell_type": "code",
   "execution_count": 5,
   "id": "c86b0c7e-a92b-433f-9e00-2811ac589c2a",
   "metadata": {},
   "outputs": [],
   "source": [
    "gho_risk = {k: dict(v) for k, v in gho_risk.set_index('Country').iterrows()}"
   ]
  },
  {
   "cell_type": "code",
   "execution_count": 6,
   "id": "8150d8e6-e002-4b19-8135-06bab39750b8",
   "metadata": {},
   "outputs": [
    {
     "data": {
      "text/html": [
       "<div>\n",
       "<style scoped>\n",
       "    .dataframe tbody tr th:only-of-type {\n",
       "        vertical-align: middle;\n",
       "    }\n",
       "\n",
       "    .dataframe tbody tr th {\n",
       "        vertical-align: top;\n",
       "    }\n",
       "\n",
       "    .dataframe thead th {\n",
       "        text-align: right;\n",
       "    }\n",
       "</style>\n",
       "<table border=\"1\" class=\"dataframe\">\n",
       "  <thead>\n",
       "    <tr style=\"text-align: right;\">\n",
       "      <th></th>\n",
       "      <th>iso3</th>\n",
       "      <th>iso2</th>\n",
       "      <th>Country</th>\n",
       "      <th>Year</th>\n",
       "      <th>Age</th>\n",
       "      <th>PopMale</th>\n",
       "      <th>PopFemale</th>\n",
       "      <th>PopTotal</th>\n",
       "    </tr>\n",
       "  </thead>\n",
       "  <tbody>\n",
       "    <tr>\n",
       "      <th>0</th>\n",
       "      <td>KEN</td>\n",
       "      <td>KE</td>\n",
       "      <td>Kenya</td>\n",
       "      <td>2020</td>\n",
       "      <td>0</td>\n",
       "      <td>707808.0</td>\n",
       "      <td>697235.0</td>\n",
       "      <td>1405043.0</td>\n",
       "    </tr>\n",
       "    <tr>\n",
       "      <th>1</th>\n",
       "      <td>KEN</td>\n",
       "      <td>KE</td>\n",
       "      <td>Kenya</td>\n",
       "      <td>2020</td>\n",
       "      <td>1</td>\n",
       "      <td>695585.0</td>\n",
       "      <td>686771.0</td>\n",
       "      <td>1382357.0</td>\n",
       "    </tr>\n",
       "    <tr>\n",
       "      <th>2</th>\n",
       "      <td>KEN</td>\n",
       "      <td>KE</td>\n",
       "      <td>Kenya</td>\n",
       "      <td>2020</td>\n",
       "      <td>2</td>\n",
       "      <td>689356.0</td>\n",
       "      <td>681644.0</td>\n",
       "      <td>1371000.0</td>\n",
       "    </tr>\n",
       "    <tr>\n",
       "      <th>3</th>\n",
       "      <td>KEN</td>\n",
       "      <td>KE</td>\n",
       "      <td>Kenya</td>\n",
       "      <td>2020</td>\n",
       "      <td>3</td>\n",
       "      <td>687634.0</td>\n",
       "      <td>680136.0</td>\n",
       "      <td>1367771.0</td>\n",
       "    </tr>\n",
       "    <tr>\n",
       "      <th>4</th>\n",
       "      <td>KEN</td>\n",
       "      <td>KE</td>\n",
       "      <td>Kenya</td>\n",
       "      <td>2020</td>\n",
       "      <td>4</td>\n",
       "      <td>681460.0</td>\n",
       "      <td>675277.0</td>\n",
       "      <td>1356736.0</td>\n",
       "    </tr>\n",
       "  </tbody>\n",
       "</table>\n",
       "</div>"
      ],
      "text/plain": [
       "  iso3 iso2 Country  Year  Age   PopMale  PopFemale   PopTotal\n",
       "0  KEN   KE   Kenya  2020    0  707808.0   697235.0  1405043.0\n",
       "1  KEN   KE   Kenya  2020    1  695585.0   686771.0  1382357.0\n",
       "2  KEN   KE   Kenya  2020    2  689356.0   681644.0  1371000.0\n",
       "3  KEN   KE   Kenya  2020    3  687634.0   680136.0  1367771.0\n",
       "4  KEN   KE   Kenya  2020    4  681460.0   675277.0  1356736.0"
      ]
     },
     "execution_count": 6,
     "metadata": {},
     "output_type": "execute_result"
    }
   ],
   "source": [
    "wpp_pop.head()"
   ]
  },
  {
   "cell_type": "markdown",
   "id": "64b1d8bc-38ed-4bd5-890c-82544593ea3f",
   "metadata": {},
   "source": [
    "### Example run"
   ]
  },
  {
   "cell_type": "code",
   "execution_count": 7,
   "id": "de2ce511-be22-49d9-95c6-d73907352aaf",
   "metadata": {},
   "outputs": [],
   "source": [
    "country = 'India'"
   ]
  },
  {
   "cell_type": "code",
   "execution_count": 8,
   "id": "bfe4cac9-4460-4291-ab57-1e2de8181e16",
   "metadata": {},
   "outputs": [
    {
     "data": {
      "text/plain": [
       "[('Und_all_a', 'Und', 0.14, <function __main__.<lambda>(gp)>),\n",
       " ('HIV_1549_a', 'HIV', 0.002, <function __main__.<lambda>(gp)>),\n",
       " ('Smoking_15_f', 'Smk', 0.0139999999999999, <function __main__.<lambda>(gp)>),\n",
       " ('Smoking_15_m', 'Smk', 0.22, <function __main__.<lambda>(gp)>),\n",
       " ('Dia_18_f', 'Dia', 0.083, <function __main__.<lambda>(gp)>),\n",
       " ('Dia_18_m', 'Dia', 0.091, <function __main__.<lambda>(gp)>),\n",
       " ('Alc_15_f', 'Alc', 0.005, <function __main__.<lambda>(gp)>),\n",
       " ('Alc_15_m', 'Alc', 0.091, <function __main__.<lambda>(gp)>)]"
      ]
     },
     "execution_count": 8,
     "metadata": {},
     "output_type": "execute_result"
    }
   ],
   "source": [
    "sel_risk = gho_risk[country]\n",
    "\n",
    "sel_risk = [\n",
    "    ('Und_all_a', 'Und', sel_risk['Und_all_a'], lambda gp: True), \n",
    "    ('HIV_1549_a', 'HIV', sel_risk['HIV_1549_a'], lambda gp: (50 > gp.Age >= 15)), \n",
    "    ('Smoking_15_f', 'Smk', sel_risk['Smoking_15_f'], lambda gp: (gp.Age >= 15) & (gp.Sex == 'f')), \n",
    "    ('Smoking_15_m', 'Smk', sel_risk['Smoking_15_m'], lambda gp: (gp.Age >= 15) & (gp.Sex == 'm')), \n",
    "    ('Dia_18_f', 'Dia', sel_risk['Dia_18_f'], lambda gp: (gp.Age >= 18) & (gp.Sex == 'f')), \n",
    "    ('Dia_18_m', 'Dia', sel_risk['Dia_18_m'], lambda gp: (gp.Age >= 18) & (gp.Sex == 'm')), \n",
    "    ('Alc_15_f', 'Alc', sel_risk['Alc_15_f'], lambda gp: (gp.Age >= 15) & (gp.Sex == 'f')), \n",
    "    ('Alc_15_m', 'Alc', sel_risk['Alc_15_m'], lambda gp: (gp.Age >= 15) & (gp.Sex == 'm'))\n",
    "]\n",
    "\n",
    "\n",
    "sel_risk"
   ]
  },
  {
   "cell_type": "code",
   "execution_count": 9,
   "id": "caf3f372-0547-48d9-8f4f-8913dc7eea69",
   "metadata": {},
   "outputs": [
    {
     "data": {
      "text/html": [
       "<div>\n",
       "<style scoped>\n",
       "    .dataframe tbody tr th:only-of-type {\n",
       "        vertical-align: middle;\n",
       "    }\n",
       "\n",
       "    .dataframe tbody tr th {\n",
       "        vertical-align: top;\n",
       "    }\n",
       "\n",
       "    .dataframe thead th {\n",
       "        text-align: right;\n",
       "    }\n",
       "</style>\n",
       "<table border=\"1\" class=\"dataframe\">\n",
       "  <thead>\n",
       "    <tr style=\"text-align: right;\">\n",
       "      <th></th>\n",
       "      <th>iso3</th>\n",
       "      <th>iso2</th>\n",
       "      <th>Country</th>\n",
       "      <th>Year</th>\n",
       "      <th>Age</th>\n",
       "      <th>PopMale</th>\n",
       "      <th>PopFemale</th>\n",
       "      <th>PopTotal</th>\n",
       "    </tr>\n",
       "  </thead>\n",
       "  <tbody>\n",
       "    <tr>\n",
       "      <th>505</th>\n",
       "      <td>IND</td>\n",
       "      <td>IN</td>\n",
       "      <td>India</td>\n",
       "      <td>2021</td>\n",
       "      <td>0</td>\n",
       "      <td>11722644.0</td>\n",
       "      <td>10877951.0</td>\n",
       "      <td>22600595.0</td>\n",
       "    </tr>\n",
       "    <tr>\n",
       "      <th>506</th>\n",
       "      <td>IND</td>\n",
       "      <td>IN</td>\n",
       "      <td>India</td>\n",
       "      <td>2021</td>\n",
       "      <td>1</td>\n",
       "      <td>11785525.0</td>\n",
       "      <td>10901323.0</td>\n",
       "      <td>22686847.0</td>\n",
       "    </tr>\n",
       "    <tr>\n",
       "      <th>507</th>\n",
       "      <td>IND</td>\n",
       "      <td>IN</td>\n",
       "      <td>India</td>\n",
       "      <td>2021</td>\n",
       "      <td>2</td>\n",
       "      <td>12010312.0</td>\n",
       "      <td>11083779.0</td>\n",
       "      <td>23094091.0</td>\n",
       "    </tr>\n",
       "    <tr>\n",
       "      <th>508</th>\n",
       "      <td>IND</td>\n",
       "      <td>IN</td>\n",
       "      <td>India</td>\n",
       "      <td>2021</td>\n",
       "      <td>3</td>\n",
       "      <td>12157120.0</td>\n",
       "      <td>11191548.0</td>\n",
       "      <td>23348668.0</td>\n",
       "    </tr>\n",
       "    <tr>\n",
       "      <th>509</th>\n",
       "      <td>IND</td>\n",
       "      <td>IN</td>\n",
       "      <td>India</td>\n",
       "      <td>2021</td>\n",
       "      <td>4</td>\n",
       "      <td>12291570.0</td>\n",
       "      <td>11285654.0</td>\n",
       "      <td>23577224.0</td>\n",
       "    </tr>\n",
       "    <tr>\n",
       "      <th>...</th>\n",
       "      <td>...</td>\n",
       "      <td>...</td>\n",
       "      <td>...</td>\n",
       "      <td>...</td>\n",
       "      <td>...</td>\n",
       "      <td>...</td>\n",
       "      <td>...</td>\n",
       "      <td>...</td>\n",
       "    </tr>\n",
       "    <tr>\n",
       "      <th>601</th>\n",
       "      <td>IND</td>\n",
       "      <td>IN</td>\n",
       "      <td>India</td>\n",
       "      <td>2021</td>\n",
       "      <td>96</td>\n",
       "      <td>30832.0</td>\n",
       "      <td>45422.0</td>\n",
       "      <td>76254.0</td>\n",
       "    </tr>\n",
       "    <tr>\n",
       "      <th>602</th>\n",
       "      <td>IND</td>\n",
       "      <td>IN</td>\n",
       "      <td>India</td>\n",
       "      <td>2021</td>\n",
       "      <td>97</td>\n",
       "      <td>21230.0</td>\n",
       "      <td>31497.0</td>\n",
       "      <td>52727.0</td>\n",
       "    </tr>\n",
       "    <tr>\n",
       "      <th>603</th>\n",
       "      <td>IND</td>\n",
       "      <td>IN</td>\n",
       "      <td>India</td>\n",
       "      <td>2021</td>\n",
       "      <td>98</td>\n",
       "      <td>14306.0</td>\n",
       "      <td>21346.0</td>\n",
       "      <td>35653.0</td>\n",
       "    </tr>\n",
       "    <tr>\n",
       "      <th>604</th>\n",
       "      <td>IND</td>\n",
       "      <td>IN</td>\n",
       "      <td>India</td>\n",
       "      <td>2021</td>\n",
       "      <td>99</td>\n",
       "      <td>9464.0</td>\n",
       "      <td>14163.0</td>\n",
       "      <td>23627.0</td>\n",
       "    </tr>\n",
       "    <tr>\n",
       "      <th>605</th>\n",
       "      <td>IND</td>\n",
       "      <td>IN</td>\n",
       "      <td>India</td>\n",
       "      <td>2021</td>\n",
       "      <td>100</td>\n",
       "      <td>15833.0</td>\n",
       "      <td>23585.0</td>\n",
       "      <td>39419.0</td>\n",
       "    </tr>\n",
       "  </tbody>\n",
       "</table>\n",
       "<p>101 rows × 8 columns</p>\n",
       "</div>"
      ],
      "text/plain": [
       "    iso3 iso2 Country  Year  Age     PopMale   PopFemale    PopTotal\n",
       "505  IND   IN   India  2021    0  11722644.0  10877951.0  22600595.0\n",
       "506  IND   IN   India  2021    1  11785525.0  10901323.0  22686847.0\n",
       "507  IND   IN   India  2021    2  12010312.0  11083779.0  23094091.0\n",
       "508  IND   IN   India  2021    3  12157120.0  11191548.0  23348668.0\n",
       "509  IND   IN   India  2021    4  12291570.0  11285654.0  23577224.0\n",
       "..   ...  ...     ...   ...  ...         ...         ...         ...\n",
       "601  IND   IN   India  2021   96     30832.0     45422.0     76254.0\n",
       "602  IND   IN   India  2021   97     21230.0     31497.0     52727.0\n",
       "603  IND   IN   India  2021   98     14306.0     21346.0     35653.0\n",
       "604  IND   IN   India  2021   99      9464.0     14163.0     23627.0\n",
       "605  IND   IN   India  2021  100     15833.0     23585.0     39419.0\n",
       "\n",
       "[101 rows x 8 columns]"
      ]
     },
     "execution_count": 9,
     "metadata": {},
     "output_type": "execute_result"
    }
   ],
   "source": [
    "sel_pop = wpp_pop[wpp_pop.Country == country]\n",
    "sel_pop = sel_pop[sel_pop.Year == 2021]\n",
    "sel_pop"
   ]
  },
  {
   "cell_type": "code",
   "execution_count": 10,
   "id": "d4f7587f-9e66-4fe6-bb8b-63b9ec0c6d21",
   "metadata": {},
   "outputs": [],
   "source": [
    "pop0 = build_population(sel_pop)"
   ]
  },
  {
   "cell_type": "code",
   "execution_count": 11,
   "id": "37740fcf-1749-4fc7-ba7c-51c050b664ab",
   "metadata": {},
   "outputs": [],
   "source": [
    "def print_pop(pop):\n",
    "    print('N:', sum([gp.N for gp in pop]))\n",
    "    \n",
    "    for key, tag, p_targets, fil in sel_risk:\n",
    "        eligible = [gp for gp in pop if fil(gp)]\n",
    "        n_eligible = sum([gp.N for gp in eligible])\n",
    "        n_risk = sum([gp.N for gp in eligible if tag in gp.Tags])\n",
    "    \n",
    "        print('--', key,  tag, f'Targets: {p_targets: .1%}, Filled: {n_risk / n_eligible:.1%}')\n",
    "    "
   ]
  },
  {
   "cell_type": "code",
   "execution_count": 12,
   "id": "0e32b505-9d48-42f1-a687-f814b56de6a0",
   "metadata": {},
   "outputs": [
    {
     "name": "stdout",
     "output_type": "stream",
     "text": [
      "N: 1407563806.7608922\n",
      "-- Und_all_a Und Targets:  14.0%, Filled: 14.0%\n",
      "-- HIV_1549_a HIV Targets:  0.2%, Filled: 0.2%\n",
      "-- Smoking_15_f Smk Targets:  1.4%, Filled: 1.4%\n",
      "-- Smoking_15_m Smk Targets:  22.0%, Filled: 22.0%\n",
      "-- Dia_18_f Dia Targets:  8.3%, Filled: 8.3%\n",
      "-- Dia_18_m Dia Targets:  9.1%, Filled: 9.1%\n",
      "-- Alc_15_f Alc Targets:  0.5%, Filled: 0.5%\n",
      "-- Alc_15_m Alc Targets:  9.1%, Filled: 9.1%\n"
     ]
    }
   ],
   "source": [
    "pop_independent = fill_tags(pop0, sel_risk, fn_rank = lambda gp: 1)\n",
    "\n",
    "print_pop(pop_independent)"
   ]
  },
  {
   "cell_type": "code",
   "execution_count": 13,
   "id": "783a8c56-a144-4cb5-9810-dedd27daa834",
   "metadata": {},
   "outputs": [
    {
     "name": "stdout",
     "output_type": "stream",
     "text": [
      "N: 1407563845.0\n",
      "-- Und_all_a Und Targets:  14.0%, Filled: 14.0%\n",
      "-- HIV_1549_a HIV Targets:  0.2%, Filled: 0.2%\n",
      "-- Smoking_15_f Smk Targets:  1.4%, Filled: 1.4%\n",
      "-- Smoking_15_m Smk Targets:  22.0%, Filled: 22.0%\n",
      "-- Dia_18_f Dia Targets:  8.3%, Filled: 8.3%\n",
      "-- Dia_18_m Dia Targets:  9.1%, Filled: 9.1%\n",
      "-- Alc_15_f Alc Targets:  0.5%, Filled: 0.5%\n",
      "-- Alc_15_m Alc Targets:  9.1%, Filled: 9.1%\n"
     ]
    }
   ],
   "source": [
    "pop_exclusive = fill_tags(pop0, sel_risk, fn_rank = lambda gp: - len(gp.Tags))\n",
    "\n",
    "print_pop(pop_exclusive)"
   ]
  },
  {
   "cell_type": "code",
   "execution_count": 14,
   "id": "72727f7e-241f-4d19-90eb-ed5e5af6cb70",
   "metadata": {},
   "outputs": [
    {
     "name": "stdout",
     "output_type": "stream",
     "text": [
      "N: 1407563845.0000002\n",
      "-- Und_all_a Und Targets:  14.0%, Filled: 14.0%\n",
      "-- HIV_1549_a HIV Targets:  0.2%, Filled: 0.2%\n",
      "-- Smoking_15_f Smk Targets:  1.4%, Filled: 1.4%\n",
      "-- Smoking_15_m Smk Targets:  22.0%, Filled: 22.0%\n",
      "-- Dia_18_f Dia Targets:  8.3%, Filled: 8.3%\n",
      "-- Dia_18_m Dia Targets:  9.1%, Filled: 9.1%\n",
      "-- Alc_15_f Alc Targets:  0.5%, Filled: 0.5%\n",
      "-- Alc_15_m Alc Targets:  9.1%, Filled: 9.1%\n"
     ]
    }
   ],
   "source": [
    "pop_cluster = fill_tags(pop0, sel_risk, fn_rank = lambda gp: len(gp.Tags))\n",
    "\n",
    "print_pop(pop_cluster)"
   ]
  },
  {
   "cell_type": "code",
   "execution_count": 15,
   "id": "dff005d8-a5fc-45cc-8254-f99234dfb782",
   "metadata": {},
   "outputs": [
    {
     "name": "stdout",
     "output_type": "stream",
     "text": [
      "True True 51857679.348399654\n",
      "True False 32582194.927600324\n",
      "False True 73536916.1256002\n",
      "False False 1249587054.5983994\n"
     ]
    }
   ],
   "source": [
    "\n",
    "n00, n01, n10, n11 = 0, 0, 0, 0\n",
    "tag1, tag2 = 'Dia', 'Smk'\n",
    "for gp in pop_cluster:\n",
    "    if tag1 in gp.Tags:\n",
    "        if tag2 in gp.Tags:\n",
    "            n11 += gp.N\n",
    "        else:\n",
    "            n10 += gp.N\n",
    "    else:\n",
    "        if tag2 in gp.Tags:\n",
    "            n01 += gp.N\n",
    "        else:\n",
    "            n00 += gp.N\n",
    "\n",
    "print(True, True, n11)\n",
    "print(True, False, n10)\n",
    "print(False, True, n01)\n",
    "print(False, False, n00)"
   ]
  },
  {
   "cell_type": "markdown",
   "id": "8c08dbb0-1a20-4131-ac03-9d3e55949e72",
   "metadata": {},
   "source": [
    "#### Run"
   ]
  },
  {
   "cell_type": "code",
   "execution_count": 16,
   "id": "a2653b94-1b78-475d-9b5e-11cc05cd6a29",
   "metadata": {},
   "outputs": [
    {
     "data": {
      "text/plain": [
       "['Brazil', 'India', 'Kenya', 'South Africa']"
      ]
     },
     "execution_count": 16,
     "metadata": {},
     "output_type": "execute_result"
    }
   ],
   "source": [
    "countries = list(gho_risk.keys())\n",
    "countries"
   ]
  },
  {
   "cell_type": "code",
   "execution_count": 17,
   "id": "1e021daf-a019-4a5e-a3dd-468b9f0bbf01",
   "metadata": {},
   "outputs": [],
   "source": [
    "for country in countries:\n",
    "    os.makedirs(f'data/{country}', exist_ok=True)\n",
    "    \n",
    "    sel_risk = gho_risk[country]\n",
    "    sel_risk = [\n",
    "        ('Und_all_a', 'Und', sel_risk['Und_all_a'], lambda gp: True), \n",
    "        ('HIV_1549_a', 'HIV', sel_risk['HIV_1549_a'], lambda gp: (50 > gp.Age >= 15)), \n",
    "        ('Smoking_15_f', 'Smk', sel_risk['Smoking_15_f'], lambda gp: (gp.Age >= 15) & (gp.Sex == 'f')), \n",
    "        ('Smoking_15_m', 'Smk', sel_risk['Smoking_15_m'], lambda gp: (gp.Age >= 15) & (gp.Sex == 'm')), \n",
    "        ('Dia_18_f', 'Dia', sel_risk['Dia_18_f'], lambda gp: (gp.Age >= 18) & (gp.Sex == 'f')), \n",
    "        ('Dia_18_m', 'Dia', sel_risk['Dia_18_m'], lambda gp: (gp.Age >= 18) & (gp.Sex == 'm')), \n",
    "        ('Alc_15_f', 'Alc', sel_risk['Alc_15_f'], lambda gp: (gp.Age >= 15) & (gp.Sex == 'f')), \n",
    "        ('Alc_15_m', 'Alc', sel_risk['Alc_15_m'], lambda gp: (gp.Age >= 15) & (gp.Sex == 'm'))\n",
    "    ]\n",
    "    \n",
    "    \n",
    "    sel_pop = wpp_pop[wpp_pop.Country == country]\n",
    "    sel_pop = sel_pop[sel_pop.Year == 2021]\n",
    "    pop0 = build_population(sel_pop)\n",
    "\n",
    "    js = [gp.to_dict() for gp in pop0]\n",
    "    pd.DataFrame(js).fillna(0).to_csv(f'data/{country}/pop.csv')\n",
    "    json.dump(js, open(f'data/{country}/pop.json', 'w'))\n",
    "    \n",
    "    js = [gp.to_dict() for gp in pop_independent]\n",
    "    pd.DataFrame(js).fillna(0).to_csv(f'data/{country}/pop_independent.csv')\n",
    "    json.dump(js, open(f'data/{country}/pop_independent.json', 'w'))\n",
    "    \n",
    "    pop_independent = fill_tags(pop0, sel_risk, fn_rank = lambda gp: 1)\n",
    "    js = [gp.to_dict() for gp in pop_independent]\n",
    "    pd.DataFrame(js).fillna(0).to_csv(f'data/{country}/pop_independent.csv')\n",
    "    json.dump(js, open(f'data/{country}/pop_independent.json', 'w'))\n",
    "    \n",
    "    pop_exclusive = fill_tags(pop0, sel_risk, fn_rank = lambda gp: - len(gp.Tags))\n",
    "    js = [gp.to_dict() for gp in pop_exclusive]\n",
    "    pd.DataFrame(js).fillna(0).to_csv(f'data/{country}/pop_exclusive.csv')\n",
    "    json.dump(js, open(f'data/{country}/pop_exclusive.json', 'w'))\n",
    "    \n",
    "    pop_cluster = fill_tags(pop0, sel_risk, fn_rank = lambda gp: len(gp.Tags))\n",
    "    js = [gp.to_dict() for gp in pop_cluster]\n",
    "    pd.DataFrame(js).fillna(0).to_csv(f'data/pop_cluster.csv')\n",
    "    json.dump(js, open(f'data/{country}/pop_cluster.json', 'w'))"
   ]
  },
  {
   "cell_type": "code",
   "execution_count": 18,
   "id": "7ef96a5b-244b-4069-9134-ccaf002e3552",
   "metadata": {},
   "outputs": [],
   "source": [
    "os.makedirs(f'data/{country}', exist_ok=True)"
   ]
  }
 ],
 "metadata": {
  "kernelspec": {
   "display_name": "Python 3 (ipykernel)",
   "language": "python",
   "name": "python3"
  },
  "language_info": {
   "codemirror_mode": {
    "name": "ipython",
    "version": 3
   },
   "file_extension": ".py",
   "mimetype": "text/x-python",
   "name": "python",
   "nbconvert_exporter": "python",
   "pygments_lexer": "ipython3",
   "version": "3.11.4"
  }
 },
 "nbformat": 4,
 "nbformat_minor": 5
}
