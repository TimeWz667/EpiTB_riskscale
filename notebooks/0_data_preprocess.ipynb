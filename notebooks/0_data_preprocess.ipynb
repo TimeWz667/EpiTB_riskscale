{
 "cells": [
  {
   "cell_type": "markdown",
   "id": "31d309e2-4549-44fc-8126-7f6d2c2b6f4e",
   "metadata": {},
   "source": [
    "#### Notes\n",
    "\n",
    "This script includes\n",
    "\n",
    "- Selecting countries\n",
    "- Labelling data\n",
    "- Checking data types\n",
    "\n",
    "**Don't run if raw data not existed**\n",
    "\n",
    "##### See **README.md** for data sources"
   ]
  },
  {
   "cell_type": "code",
   "execution_count": 1,
   "id": "2b28184a-6dca-4abd-937a-86f581d9cb2b",
   "metadata": {},
   "outputs": [
    {
     "name": "stderr",
     "output_type": "stream",
     "text": [
      "── \u001b[1mAttaching core tidyverse packages\u001b[22m ──────────────────────── tidyverse 2.0.0 ──\n",
      "\u001b[32m✔\u001b[39m \u001b[34mdplyr    \u001b[39m 1.1.2     \u001b[32m✔\u001b[39m \u001b[34mreadr    \u001b[39m 2.1.4\n",
      "\u001b[32m✔\u001b[39m \u001b[34mforcats  \u001b[39m 1.0.0     \u001b[32m✔\u001b[39m \u001b[34mstringr  \u001b[39m 1.5.0\n",
      "\u001b[32m✔\u001b[39m \u001b[34mggplot2  \u001b[39m 3.4.2     \u001b[32m✔\u001b[39m \u001b[34mtibble   \u001b[39m 3.2.1\n",
      "\u001b[32m✔\u001b[39m \u001b[34mlubridate\u001b[39m 1.9.2     \u001b[32m✔\u001b[39m \u001b[34mtidyr    \u001b[39m 1.3.0\n",
      "\u001b[32m✔\u001b[39m \u001b[34mpurrr    \u001b[39m 1.0.1     \n",
      "── \u001b[1mConflicts\u001b[22m ────────────────────────────────────────── tidyverse_conflicts() ──\n",
      "\u001b[31m✖\u001b[39m \u001b[34mdplyr\u001b[39m::\u001b[32mfilter()\u001b[39m masks \u001b[34mstats\u001b[39m::filter()\n",
      "\u001b[31m✖\u001b[39m \u001b[34mdplyr\u001b[39m::\u001b[32mlag()\u001b[39m    masks \u001b[34mstats\u001b[39m::lag()\n",
      "\u001b[36mℹ\u001b[39m Use the conflicted package (\u001b[3m\u001b[34m<http://conflicted.r-lib.org/>\u001b[39m\u001b[23m) to force all conflicts to become errors\n"
     ]
    }
   ],
   "source": [
    "library(tidyverse)"
   ]
  },
  {
   "cell_type": "code",
   "execution_count": 2,
   "id": "3243e4e9-bc1c-4f1e-a6a0-d2fabdcfa7b7",
   "metadata": {},
   "outputs": [],
   "source": [
    "countries <- c(\"India\", \"South Africa\", \"Kenya\", \"Brazil\")"
   ]
  },
  {
   "cell_type": "markdown",
   "id": "55d9a629-21bc-4860-b10f-87e25e1b6202",
   "metadata": {},
   "source": [
    "# Risk profile"
   ]
  },
  {
   "cell_type": "code",
   "execution_count": 3,
   "id": "3e264798-05f1-4076-b193-8f1b3e4e535b",
   "metadata": {},
   "outputs": [
    {
     "name": "stderr",
     "output_type": "stream",
     "text": [
      "\u001b[1mRows: \u001b[22m\u001b[34m33\u001b[39m \u001b[1mColumns: \u001b[22m\u001b[34m9\u001b[39m\n",
      "\u001b[36m──\u001b[39m \u001b[1mColumn specification\u001b[22m \u001b[36m────────────────────────────────────────────────────────\u001b[39m\n",
      "\u001b[1mDelimiter:\u001b[22m \",\"\n",
      "\u001b[31mchr\u001b[39m (5): Country, Und_all_a, HIV_1549_a, Smoking_15_f, Smoking_15_m\n",
      "\u001b[32mdbl\u001b[39m (4): Dia_18_f, Dia-18_m, Alc_15_f, Alc_15_m\n",
      "\n",
      "\u001b[36mℹ\u001b[39m Use `spec()` to retrieve the full column specification for this data.\n",
      "\u001b[36mℹ\u001b[39m Specify the column types or set `show_col_types = FALSE` to quiet this message.\n"
     ]
    },
    {
     "data": {
      "text/html": [
       "<table class=\"dataframe\">\n",
       "<caption>A tibble: 6 × 9</caption>\n",
       "<thead>\n",
       "\t<tr><th scope=col>Country</th><th scope=col>Und_all_a</th><th scope=col>HIV_1549_a</th><th scope=col>Smoking_15_f</th><th scope=col>Smoking_15_m</th><th scope=col>Dia_18_f</th><th scope=col>Dia-18_m</th><th scope=col>Alc_15_f</th><th scope=col>Alc_15_m</th></tr>\n",
       "\t<tr><th scope=col>&lt;chr&gt;</th><th scope=col>&lt;chr&gt;</th><th scope=col>&lt;chr&gt;</th><th scope=col>&lt;chr&gt;</th><th scope=col>&lt;chr&gt;</th><th scope=col>&lt;dbl&gt;</th><th scope=col>&lt;dbl&gt;</th><th scope=col>&lt;dbl&gt;</th><th scope=col>&lt;dbl&gt;</th></tr>\n",
       "</thead>\n",
       "<tbody>\n",
       "\t<tr><td>Angola                  </td><td>19 </td><td>1.9</td><td>—  </td><td>— </td><td>7.8</td><td> 8.5</td><td>1.7</td><td>11.0</td></tr>\n",
       "\t<tr><td>Bangladesh              </td><td>13 </td><td>—  </td><td>1  </td><td>41</td><td>9.3</td><td>10.0</td><td>0.3</td><td> 1.4</td></tr>\n",
       "\t<tr><td>Brazil                  </td><td>2.5</td><td>0.5</td><td>9.5</td><td>17</td><td>8.7</td><td> 7.8</td><td>1.6</td><td> 6.9</td></tr>\n",
       "\t<tr><td>Cambodia                </td><td>14 </td><td>0.5</td><td>2  </td><td>32</td><td>6.9</td><td> 7.4</td><td>1.8</td><td> 8.7</td></tr>\n",
       "\t<tr><td>Central African Republic</td><td>—  </td><td>3.5</td><td>—  </td><td>— </td><td>7.6</td><td> 8.0</td><td>0.9</td><td> 6.8</td></tr>\n",
       "\t<tr><td>China                   </td><td>2.5</td><td>—  </td><td>1.8</td><td>48</td><td>7.6</td><td> 9.9</td><td>0.2</td><td> 8.4</td></tr>\n",
       "</tbody>\n",
       "</table>\n"
      ],
      "text/latex": [
       "A tibble: 6 × 9\n",
       "\\begin{tabular}{lllllllll}\n",
       " Country & Und\\_all\\_a & HIV\\_1549\\_a & Smoking\\_15\\_f & Smoking\\_15\\_m & Dia\\_18\\_f & Dia-18\\_m & Alc\\_15\\_f & Alc\\_15\\_m\\\\\n",
       " <chr> & <chr> & <chr> & <chr> & <chr> & <dbl> & <dbl> & <dbl> & <dbl>\\\\\n",
       "\\hline\n",
       "\t Angola                   & 19  & 1.9 & —   & —  & 7.8 &  8.5 & 1.7 & 11.0\\\\\n",
       "\t Bangladesh               & 13  & —   & 1   & 41 & 9.3 & 10.0 & 0.3 &  1.4\\\\\n",
       "\t Brazil                   & 2.5 & 0.5 & 9.5 & 17 & 8.7 &  7.8 & 1.6 &  6.9\\\\\n",
       "\t Cambodia                 & 14  & 0.5 & 2   & 32 & 6.9 &  7.4 & 1.8 &  8.7\\\\\n",
       "\t Central African Republic & —   & 3.5 & —   & —  & 7.6 &  8.0 & 0.9 &  6.8\\\\\n",
       "\t China                    & 2.5 & —   & 1.8 & 48 & 7.6 &  9.9 & 0.2 &  8.4\\\\\n",
       "\\end{tabular}\n"
      ],
      "text/markdown": [
       "\n",
       "A tibble: 6 × 9\n",
       "\n",
       "| Country &lt;chr&gt; | Und_all_a &lt;chr&gt; | HIV_1549_a &lt;chr&gt; | Smoking_15_f &lt;chr&gt; | Smoking_15_m &lt;chr&gt; | Dia_18_f &lt;dbl&gt; | Dia-18_m &lt;dbl&gt; | Alc_15_f &lt;dbl&gt; | Alc_15_m &lt;dbl&gt; |\n",
       "|---|---|---|---|---|---|---|---|---|\n",
       "| Angola                   | 19  | 1.9 | —   | —  | 7.8 |  8.5 | 1.7 | 11.0 |\n",
       "| Bangladesh               | 13  | —   | 1   | 41 | 9.3 | 10.0 | 0.3 |  1.4 |\n",
       "| Brazil                   | 2.5 | 0.5 | 9.5 | 17 | 8.7 |  7.8 | 1.6 |  6.9 |\n",
       "| Cambodia                 | 14  | 0.5 | 2   | 32 | 6.9 |  7.4 | 1.8 |  8.7 |\n",
       "| Central African Republic | —   | 3.5 | —   | —  | 7.6 |  8.0 | 0.9 |  6.8 |\n",
       "| China                    | 2.5 | —   | 1.8 | 48 | 7.6 |  9.9 | 0.2 |  8.4 |\n",
       "\n"
      ],
      "text/plain": [
       "  Country                  Und_all_a HIV_1549_a Smoking_15_f Smoking_15_m\n",
       "1 Angola                   19        1.9        —            —           \n",
       "2 Bangladesh               13        —          1            41          \n",
       "3 Brazil                   2.5       0.5        9.5          17          \n",
       "4 Cambodia                 14        0.5        2            32          \n",
       "5 Central African Republic —         3.5        —            —           \n",
       "6 China                    2.5       —          1.8          48          \n",
       "  Dia_18_f Dia-18_m Alc_15_f Alc_15_m\n",
       "1 7.8       8.5     1.7      11.0    \n",
       "2 9.3      10.0     0.3       1.4    \n",
       "3 8.7       7.8     1.6       6.9    \n",
       "4 6.9       7.4     1.8       8.7    \n",
       "5 7.6       8.0     0.9       6.8    \n",
       "6 7.6       9.9     0.2       8.4    "
      ]
     },
     "metadata": {},
     "output_type": "display_data"
    }
   ],
   "source": [
    "raw <- read_csv(\"data_raw/Table-6.3.2.csv\")\n",
    "head(raw)"
   ]
  },
  {
   "cell_type": "code",
   "execution_count": 4,
   "id": "bb0143dd-0a96-49cc-b9d4-6cb7e29b8af5",
   "metadata": {},
   "outputs": [
    {
     "name": "stderr",
     "output_type": "stream",
     "text": [
      "Warning message:\n",
      "“\u001b[1m\u001b[22mThere was 1 warning in `mutate()`.\n",
      "\u001b[1m\u001b[22m\u001b[36mℹ\u001b[39m In argument: `HIV_1549_a = as.numeric(HIV_1549_a)`.\n",
      "Caused by warning:\n",
      "\u001b[33m!\u001b[39m NAs introduced by coercion”\n"
     ]
    },
    {
     "data": {
      "text/html": [
       "<table class=\"dataframe\">\n",
       "<caption>A tibble: 4 × 9</caption>\n",
       "<thead>\n",
       "\t<tr><th scope=col>Country</th><th scope=col>Und_all_a</th><th scope=col>HIV_1549_a</th><th scope=col>Smoking_15_f</th><th scope=col>Smoking_15_m</th><th scope=col>Dia_18_f</th><th scope=col>Dia-18_m</th><th scope=col>Alc_15_f</th><th scope=col>Alc_15_m</th></tr>\n",
       "\t<tr><th scope=col>&lt;chr&gt;</th><th scope=col>&lt;dbl&gt;</th><th scope=col>&lt;dbl&gt;</th><th scope=col>&lt;dbl&gt;</th><th scope=col>&lt;dbl&gt;</th><th scope=col>&lt;dbl&gt;</th><th scope=col>&lt;dbl&gt;</th><th scope=col>&lt;dbl&gt;</th><th scope=col>&lt;dbl&gt;</th></tr>\n",
       "</thead>\n",
       "<tbody>\n",
       "\t<tr><td>Brazil      </td><td>0.025</td><td>0.005</td><td>0.095</td><td>0.17</td><td>0.087</td><td>0.078</td><td>0.016</td><td>0.069</td></tr>\n",
       "\t<tr><td>India       </td><td>0.140</td><td>0.002</td><td>0.014</td><td>0.22</td><td>0.083</td><td>0.091</td><td>0.005</td><td>0.091</td></tr>\n",
       "\t<tr><td>Kenya       </td><td>0.230</td><td>0.045</td><td>0.010</td><td>0.20</td><td>0.062</td><td>0.058</td><td>0.009</td><td>0.071</td></tr>\n",
       "\t<tr><td>South Africa</td><td>0.057</td><td>0.190</td><td>0.071</td><td>0.34</td><td>0.130</td><td>0.097</td><td>0.018</td><td>0.120</td></tr>\n",
       "</tbody>\n",
       "</table>\n"
      ],
      "text/latex": [
       "A tibble: 4 × 9\n",
       "\\begin{tabular}{lllllllll}\n",
       " Country & Und\\_all\\_a & HIV\\_1549\\_a & Smoking\\_15\\_f & Smoking\\_15\\_m & Dia\\_18\\_f & Dia-18\\_m & Alc\\_15\\_f & Alc\\_15\\_m\\\\\n",
       " <chr> & <dbl> & <dbl> & <dbl> & <dbl> & <dbl> & <dbl> & <dbl> & <dbl>\\\\\n",
       "\\hline\n",
       "\t Brazil       & 0.025 & 0.005 & 0.095 & 0.17 & 0.087 & 0.078 & 0.016 & 0.069\\\\\n",
       "\t India        & 0.140 & 0.002 & 0.014 & 0.22 & 0.083 & 0.091 & 0.005 & 0.091\\\\\n",
       "\t Kenya        & 0.230 & 0.045 & 0.010 & 0.20 & 0.062 & 0.058 & 0.009 & 0.071\\\\\n",
       "\t South Africa & 0.057 & 0.190 & 0.071 & 0.34 & 0.130 & 0.097 & 0.018 & 0.120\\\\\n",
       "\\end{tabular}\n"
      ],
      "text/markdown": [
       "\n",
       "A tibble: 4 × 9\n",
       "\n",
       "| Country &lt;chr&gt; | Und_all_a &lt;dbl&gt; | HIV_1549_a &lt;dbl&gt; | Smoking_15_f &lt;dbl&gt; | Smoking_15_m &lt;dbl&gt; | Dia_18_f &lt;dbl&gt; | Dia-18_m &lt;dbl&gt; | Alc_15_f &lt;dbl&gt; | Alc_15_m &lt;dbl&gt; |\n",
       "|---|---|---|---|---|---|---|---|---|\n",
       "| Brazil       | 0.025 | 0.005 | 0.095 | 0.17 | 0.087 | 0.078 | 0.016 | 0.069 |\n",
       "| India        | 0.140 | 0.002 | 0.014 | 0.22 | 0.083 | 0.091 | 0.005 | 0.091 |\n",
       "| Kenya        | 0.230 | 0.045 | 0.010 | 0.20 | 0.062 | 0.058 | 0.009 | 0.071 |\n",
       "| South Africa | 0.057 | 0.190 | 0.071 | 0.34 | 0.130 | 0.097 | 0.018 | 0.120 |\n",
       "\n"
      ],
      "text/plain": [
       "  Country      Und_all_a HIV_1549_a Smoking_15_f Smoking_15_m Dia_18_f Dia-18_m\n",
       "1 Brazil       0.025     0.005      0.095        0.17         0.087    0.078   \n",
       "2 India        0.140     0.002      0.014        0.22         0.083    0.091   \n",
       "3 Kenya        0.230     0.045      0.010        0.20         0.062    0.058   \n",
       "4 South Africa 0.057     0.190      0.071        0.34         0.130    0.097   \n",
       "  Alc_15_f Alc_15_m\n",
       "1 0.016    0.069   \n",
       "2 0.005    0.091   \n",
       "3 0.009    0.071   \n",
       "4 0.018    0.120   "
      ]
     },
     "metadata": {},
     "output_type": "display_data"
    }
   ],
   "source": [
    "risk <- raw %>% \n",
    "    filter(Country %in% countries) %>%\n",
    "    mutate(\n",
    "        Und_all_a = as.numeric(Und_all_a),\n",
    "        HIV_1549_a = as.numeric(HIV_1549_a),\n",
    "        HIV_1549_a = ifelse(Country == \"India\", 0.2, HIV_1549_a),\n",
    "        Smoking_15_f = as.numeric(Smoking_15_f),\n",
    "        Smoking_15_m = as.numeric(Smoking_15_m),\n",
    "        across(Und_all_a:Alc_15_m, function(x) x / 100)\n",
    "    )\n",
    "risk"
   ]
  },
  {
   "cell_type": "code",
   "execution_count": 5,
   "id": "7dd3d6cd-0c5d-4ed6-a138-64fc66dff531",
   "metadata": {},
   "outputs": [],
   "source": [
    "risk %>% write_csv(\"data/gho_risk.csv\")"
   ]
  },
  {
   "cell_type": "markdown",
   "id": "5245a873-4022-4fcc-9e4e-f631fb1b4b91",
   "metadata": {},
   "source": [
    "### TB incidence disaggregated"
   ]
  },
  {
   "cell_type": "code",
   "execution_count": 6,
   "id": "2eb1138f-e386-452c-83e0-25d9896f5bfb",
   "metadata": {},
   "outputs": [
    {
     "name": "stderr",
     "output_type": "stream",
     "text": [
      "\u001b[1mRows: \u001b[22m\u001b[34m7333\u001b[39m \u001b[1mColumns: \u001b[22m\u001b[34m13\u001b[39m\n",
      "\u001b[36m──\u001b[39m \u001b[1mColumn specification\u001b[22m \u001b[36m────────────────────────────────────────────────────────\u001b[39m\n",
      "\u001b[1mDelimiter:\u001b[22m \",\"\n",
      "\u001b[31mchr\u001b[39m (9): country, iso2, iso3, iso_numeric, measure, unit, age_group, sex, ri...\n",
      "\u001b[32mdbl\u001b[39m (4): year, best, lo, hi\n",
      "\n",
      "\u001b[36mℹ\u001b[39m Use `spec()` to retrieve the full column specification for this data.\n",
      "\u001b[36mℹ\u001b[39m Specify the column types or set `show_col_types = FALSE` to quiet this message.\n"
     ]
    },
    {
     "data": {
      "text/html": [
       "<table class=\"dataframe\">\n",
       "<caption>A tibble: 6 × 13</caption>\n",
       "<thead>\n",
       "\t<tr><th scope=col>country</th><th scope=col>iso2</th><th scope=col>iso3</th><th scope=col>iso_numeric</th><th scope=col>year</th><th scope=col>measure</th><th scope=col>unit</th><th scope=col>age_group</th><th scope=col>sex</th><th scope=col>risk_factor</th><th scope=col>best</th><th scope=col>lo</th><th scope=col>hi</th></tr>\n",
       "\t<tr><th scope=col>&lt;chr&gt;</th><th scope=col>&lt;chr&gt;</th><th scope=col>&lt;chr&gt;</th><th scope=col>&lt;chr&gt;</th><th scope=col>&lt;dbl&gt;</th><th scope=col>&lt;chr&gt;</th><th scope=col>&lt;chr&gt;</th><th scope=col>&lt;chr&gt;</th><th scope=col>&lt;chr&gt;</th><th scope=col>&lt;chr&gt;</th><th scope=col>&lt;dbl&gt;</th><th scope=col>&lt;dbl&gt;</th><th scope=col>&lt;dbl&gt;</th></tr>\n",
       "</thead>\n",
       "<tbody>\n",
       "\t<tr><td>Afghanistan</td><td>AF</td><td>AFG</td><td>004</td><td>2021</td><td>inc</td><td>num</td><td>0-14 </td><td>a</td><td>all</td><td>16000</td><td>8000</td><td>24000</td></tr>\n",
       "\t<tr><td>Afghanistan</td><td>AF</td><td>AFG</td><td>004</td><td>2021</td><td>inc</td><td>num</td><td>0-14 </td><td>f</td><td>all</td><td> 7600</td><td>2300</td><td>13000</td></tr>\n",
       "\t<tr><td>Afghanistan</td><td>AF</td><td>AFG</td><td>004</td><td>2021</td><td>inc</td><td>num</td><td>0-14 </td><td>m</td><td>all</td><td> 8200</td><td>2500</td><td>14000</td></tr>\n",
       "\t<tr><td>Afghanistan</td><td>AF</td><td>AFG</td><td>004</td><td>2021</td><td>inc</td><td>num</td><td>0-4  </td><td>f</td><td>all</td><td> 3400</td><td>   0</td><td> 8600</td></tr>\n",
       "\t<tr><td>Afghanistan</td><td>AF</td><td>AFG</td><td>004</td><td>2021</td><td>inc</td><td>num</td><td>0-4  </td><td>m</td><td>all</td><td> 4000</td><td>   0</td><td>10000</td></tr>\n",
       "\t<tr><td>Afghanistan</td><td>AF</td><td>AFG</td><td>004</td><td>2021</td><td>inc</td><td>num</td><td>15-24</td><td>f</td><td>all</td><td> 7400</td><td>   0</td><td>19000</td></tr>\n",
       "</tbody>\n",
       "</table>\n"
      ],
      "text/latex": [
       "A tibble: 6 × 13\n",
       "\\begin{tabular}{lllllllllllll}\n",
       " country & iso2 & iso3 & iso\\_numeric & year & measure & unit & age\\_group & sex & risk\\_factor & best & lo & hi\\\\\n",
       " <chr> & <chr> & <chr> & <chr> & <dbl> & <chr> & <chr> & <chr> & <chr> & <chr> & <dbl> & <dbl> & <dbl>\\\\\n",
       "\\hline\n",
       "\t Afghanistan & AF & AFG & 004 & 2021 & inc & num & 0-14  & a & all & 16000 & 8000 & 24000\\\\\n",
       "\t Afghanistan & AF & AFG & 004 & 2021 & inc & num & 0-14  & f & all &  7600 & 2300 & 13000\\\\\n",
       "\t Afghanistan & AF & AFG & 004 & 2021 & inc & num & 0-14  & m & all &  8200 & 2500 & 14000\\\\\n",
       "\t Afghanistan & AF & AFG & 004 & 2021 & inc & num & 0-4   & f & all &  3400 &    0 &  8600\\\\\n",
       "\t Afghanistan & AF & AFG & 004 & 2021 & inc & num & 0-4   & m & all &  4000 &    0 & 10000\\\\\n",
       "\t Afghanistan & AF & AFG & 004 & 2021 & inc & num & 15-24 & f & all &  7400 &    0 & 19000\\\\\n",
       "\\end{tabular}\n"
      ],
      "text/markdown": [
       "\n",
       "A tibble: 6 × 13\n",
       "\n",
       "| country &lt;chr&gt; | iso2 &lt;chr&gt; | iso3 &lt;chr&gt; | iso_numeric &lt;chr&gt; | year &lt;dbl&gt; | measure &lt;chr&gt; | unit &lt;chr&gt; | age_group &lt;chr&gt; | sex &lt;chr&gt; | risk_factor &lt;chr&gt; | best &lt;dbl&gt; | lo &lt;dbl&gt; | hi &lt;dbl&gt; |\n",
       "|---|---|---|---|---|---|---|---|---|---|---|---|---|\n",
       "| Afghanistan | AF | AFG | 004 | 2021 | inc | num | 0-14  | a | all | 16000 | 8000 | 24000 |\n",
       "| Afghanistan | AF | AFG | 004 | 2021 | inc | num | 0-14  | f | all |  7600 | 2300 | 13000 |\n",
       "| Afghanistan | AF | AFG | 004 | 2021 | inc | num | 0-14  | m | all |  8200 | 2500 | 14000 |\n",
       "| Afghanistan | AF | AFG | 004 | 2021 | inc | num | 0-4   | f | all |  3400 |    0 |  8600 |\n",
       "| Afghanistan | AF | AFG | 004 | 2021 | inc | num | 0-4   | m | all |  4000 |    0 | 10000 |\n",
       "| Afghanistan | AF | AFG | 004 | 2021 | inc | num | 15-24 | f | all |  7400 |    0 | 19000 |\n",
       "\n"
      ],
      "text/plain": [
       "  country     iso2 iso3 iso_numeric year measure unit age_group sex risk_factor\n",
       "1 Afghanistan AF   AFG  004         2021 inc     num  0-14      a   all        \n",
       "2 Afghanistan AF   AFG  004         2021 inc     num  0-14      f   all        \n",
       "3 Afghanistan AF   AFG  004         2021 inc     num  0-14      m   all        \n",
       "4 Afghanistan AF   AFG  004         2021 inc     num  0-4       f   all        \n",
       "5 Afghanistan AF   AFG  004         2021 inc     num  0-4       m   all        \n",
       "6 Afghanistan AF   AFG  004         2021 inc     num  15-24     f   all        \n",
       "  best  lo   hi   \n",
       "1 16000 8000 24000\n",
       "2  7600 2300 13000\n",
       "3  8200 2500 14000\n",
       "4  3400    0  8600\n",
       "5  4000    0 10000\n",
       "6  7400    0 19000"
      ]
     },
     "metadata": {},
     "output_type": "display_data"
    }
   ],
   "source": [
    "raw <- read_csv(\"data_raw/TB_burden_age_sex_2023-03-02.csv\")\n",
    "\n",
    "head(raw)"
   ]
  },
  {
   "cell_type": "code",
   "execution_count": 7,
   "id": "b9fe68a8-e043-4a7d-943e-3e6fc1464464",
   "metadata": {},
   "outputs": [
    {
     "data": {
      "text/html": [
       "<table class=\"dataframe\">\n",
       "<caption>A tibble: 6 × 13</caption>\n",
       "<thead>\n",
       "\t<tr><th scope=col>Country</th><th scope=col>iso2</th><th scope=col>iso3</th><th scope=col>iso_numeric</th><th scope=col>year</th><th scope=col>measure</th><th scope=col>unit</th><th scope=col>age_group</th><th scope=col>sex</th><th scope=col>risk_factor</th><th scope=col>M</th><th scope=col>L</th><th scope=col>H</th></tr>\n",
       "\t<tr><th scope=col>&lt;chr&gt;</th><th scope=col>&lt;chr&gt;</th><th scope=col>&lt;chr&gt;</th><th scope=col>&lt;chr&gt;</th><th scope=col>&lt;dbl&gt;</th><th scope=col>&lt;chr&gt;</th><th scope=col>&lt;chr&gt;</th><th scope=col>&lt;chr&gt;</th><th scope=col>&lt;chr&gt;</th><th scope=col>&lt;chr&gt;</th><th scope=col>&lt;dbl&gt;</th><th scope=col>&lt;dbl&gt;</th><th scope=col>&lt;dbl&gt;</th></tr>\n",
       "</thead>\n",
       "<tbody>\n",
       "\t<tr><td>Brazil</td><td>BR</td><td>BRA</td><td>076</td><td>2021</td><td>inc</td><td>num</td><td>0-14 </td><td>a</td><td>all</td><td>5100</td><td>4300</td><td>5900</td></tr>\n",
       "\t<tr><td>Brazil</td><td>BR</td><td>BRA</td><td>076</td><td>2021</td><td>inc</td><td>num</td><td>0-14 </td><td>f</td><td>all</td><td>2500</td><td>2000</td><td>3000</td></tr>\n",
       "\t<tr><td>Brazil</td><td>BR</td><td>BRA</td><td>076</td><td>2021</td><td>inc</td><td>num</td><td>0-14 </td><td>m</td><td>all</td><td>2600</td><td>2100</td><td>3200</td></tr>\n",
       "\t<tr><td>Brazil</td><td>BR</td><td>BRA</td><td>076</td><td>2021</td><td>inc</td><td>num</td><td>0-4  </td><td>f</td><td>all</td><td>1100</td><td> 570</td><td>1700</td></tr>\n",
       "\t<tr><td>Brazil</td><td>BR</td><td>BRA</td><td>076</td><td>2021</td><td>inc</td><td>num</td><td>0-4  </td><td>m</td><td>all</td><td>1300</td><td> 680</td><td>2000</td></tr>\n",
       "\t<tr><td>Brazil</td><td>BR</td><td>BRA</td><td>076</td><td>2021</td><td>inc</td><td>num</td><td>15-24</td><td>f</td><td>all</td><td>5900</td><td>3000</td><td>8800</td></tr>\n",
       "</tbody>\n",
       "</table>\n"
      ],
      "text/latex": [
       "A tibble: 6 × 13\n",
       "\\begin{tabular}{lllllllllllll}\n",
       " Country & iso2 & iso3 & iso\\_numeric & year & measure & unit & age\\_group & sex & risk\\_factor & M & L & H\\\\\n",
       " <chr> & <chr> & <chr> & <chr> & <dbl> & <chr> & <chr> & <chr> & <chr> & <chr> & <dbl> & <dbl> & <dbl>\\\\\n",
       "\\hline\n",
       "\t Brazil & BR & BRA & 076 & 2021 & inc & num & 0-14  & a & all & 5100 & 4300 & 5900\\\\\n",
       "\t Brazil & BR & BRA & 076 & 2021 & inc & num & 0-14  & f & all & 2500 & 2000 & 3000\\\\\n",
       "\t Brazil & BR & BRA & 076 & 2021 & inc & num & 0-14  & m & all & 2600 & 2100 & 3200\\\\\n",
       "\t Brazil & BR & BRA & 076 & 2021 & inc & num & 0-4   & f & all & 1100 &  570 & 1700\\\\\n",
       "\t Brazil & BR & BRA & 076 & 2021 & inc & num & 0-4   & m & all & 1300 &  680 & 2000\\\\\n",
       "\t Brazil & BR & BRA & 076 & 2021 & inc & num & 15-24 & f & all & 5900 & 3000 & 8800\\\\\n",
       "\\end{tabular}\n"
      ],
      "text/markdown": [
       "\n",
       "A tibble: 6 × 13\n",
       "\n",
       "| Country &lt;chr&gt; | iso2 &lt;chr&gt; | iso3 &lt;chr&gt; | iso_numeric &lt;chr&gt; | year &lt;dbl&gt; | measure &lt;chr&gt; | unit &lt;chr&gt; | age_group &lt;chr&gt; | sex &lt;chr&gt; | risk_factor &lt;chr&gt; | M &lt;dbl&gt; | L &lt;dbl&gt; | H &lt;dbl&gt; |\n",
       "|---|---|---|---|---|---|---|---|---|---|---|---|---|\n",
       "| Brazil | BR | BRA | 076 | 2021 | inc | num | 0-14  | a | all | 5100 | 4300 | 5900 |\n",
       "| Brazil | BR | BRA | 076 | 2021 | inc | num | 0-14  | f | all | 2500 | 2000 | 3000 |\n",
       "| Brazil | BR | BRA | 076 | 2021 | inc | num | 0-14  | m | all | 2600 | 2100 | 3200 |\n",
       "| Brazil | BR | BRA | 076 | 2021 | inc | num | 0-4   | f | all | 1100 |  570 | 1700 |\n",
       "| Brazil | BR | BRA | 076 | 2021 | inc | num | 0-4   | m | all | 1300 |  680 | 2000 |\n",
       "| Brazil | BR | BRA | 076 | 2021 | inc | num | 15-24 | f | all | 5900 | 3000 | 8800 |\n",
       "\n"
      ],
      "text/plain": [
       "  Country iso2 iso3 iso_numeric year measure unit age_group sex risk_factor\n",
       "1 Brazil  BR   BRA  076         2021 inc     num  0-14      a   all        \n",
       "2 Brazil  BR   BRA  076         2021 inc     num  0-14      f   all        \n",
       "3 Brazil  BR   BRA  076         2021 inc     num  0-14      m   all        \n",
       "4 Brazil  BR   BRA  076         2021 inc     num  0-4       f   all        \n",
       "5 Brazil  BR   BRA  076         2021 inc     num  0-4       m   all        \n",
       "6 Brazil  BR   BRA  076         2021 inc     num  15-24     f   all        \n",
       "  M    L    H   \n",
       "1 5100 4300 5900\n",
       "2 2500 2000 3000\n",
       "3 2600 2100 3200\n",
       "4 1100  570 1700\n",
       "5 1300  680 2000\n",
       "6 5900 3000 8800"
      ]
     },
     "metadata": {},
     "output_type": "display_data"
    }
   ],
   "source": [
    "inc_by_risk <- raw %>% \n",
    "    filter(country %in% countries) %>%\n",
    "    rename(Country = country, M = best, L = lo, H = hi)\n",
    "\n",
    "head(inc_by_risk)"
   ]
  },
  {
   "cell_type": "code",
   "execution_count": 8,
   "id": "d742aa4f-b414-4e02-9c04-7b1ccf43cabf",
   "metadata": {},
   "outputs": [],
   "source": [
    "inc_by_risk %>% write_csv(\"data/who_inc.csv\")"
   ]
  },
  {
   "cell_type": "markdown",
   "id": "172cef6d-f692-47e8-ba61-0679eb139a2e",
   "metadata": {},
   "source": [
    "### Population size"
   ]
  },
  {
   "cell_type": "code",
   "execution_count": 9,
   "id": "e62973ab-5841-45b3-a609-ff018da1e005",
   "metadata": {},
   "outputs": [
    {
     "name": "stderr",
     "output_type": "stream",
     "text": [
      "\u001b[1mRows: \u001b[22m\u001b[34m2072520\u001b[39m \u001b[1mColumns: \u001b[22m\u001b[34m20\u001b[39m\n",
      "\u001b[36m──\u001b[39m \u001b[1mColumn specification\u001b[22m \u001b[36m────────────────────────────────────────────────────────\u001b[39m\n",
      "\u001b[1mDelimiter:\u001b[22m \",\"\n",
      "\u001b[31mchr\u001b[39m  (7): Notes, ISO3_code, ISO2_code, LocTypeName, Location, Variant, AgeGrp\n",
      "\u001b[32mdbl\u001b[39m (13): SortOrder, LocID, SDMX_code, LocTypeID, ParentID, VarID, Time, Mid...\n",
      "\n",
      "\u001b[36mℹ\u001b[39m Use `spec()` to retrieve the full column specification for this data.\n",
      "\u001b[36mℹ\u001b[39m Specify the column types or set `show_col_types = FALSE` to quiet this message.\n"
     ]
    }
   ],
   "source": [
    "raw <- read_csv(\"data_raw/WPP2022.csv\")"
   ]
  },
  {
   "cell_type": "code",
   "execution_count": 10,
   "id": "263242bb-e11b-4580-9384-c0aae3d8038e",
   "metadata": {},
   "outputs": [
    {
     "data": {
      "text/html": [
       "<table class=\"dataframe\">\n",
       "<caption>A tibble: 6 × 8</caption>\n",
       "<thead>\n",
       "\t<tr><th scope=col>iso3</th><th scope=col>iso2</th><th scope=col>Country</th><th scope=col>Year</th><th scope=col>Age</th><th scope=col>PopMale</th><th scope=col>PopFemale</th><th scope=col>PopTotal</th></tr>\n",
       "\t<tr><th scope=col>&lt;chr&gt;</th><th scope=col>&lt;chr&gt;</th><th scope=col>&lt;chr&gt;</th><th scope=col>&lt;dbl&gt;</th><th scope=col>&lt;chr&gt;</th><th scope=col>&lt;dbl&gt;</th><th scope=col>&lt;dbl&gt;</th><th scope=col>&lt;dbl&gt;</th></tr>\n",
       "</thead>\n",
       "<tbody>\n",
       "\t<tr><td>KEN</td><td>KE</td><td>Kenya</td><td>2020</td><td>0</td><td>707808</td><td>697235</td><td>1405043</td></tr>\n",
       "\t<tr><td>KEN</td><td>KE</td><td>Kenya</td><td>2020</td><td>1</td><td>695585</td><td>686771</td><td>1382357</td></tr>\n",
       "\t<tr><td>KEN</td><td>KE</td><td>Kenya</td><td>2020</td><td>2</td><td>689356</td><td>681644</td><td>1371000</td></tr>\n",
       "\t<tr><td>KEN</td><td>KE</td><td>Kenya</td><td>2020</td><td>3</td><td>687634</td><td>680136</td><td>1367771</td></tr>\n",
       "\t<tr><td>KEN</td><td>KE</td><td>Kenya</td><td>2020</td><td>4</td><td>681460</td><td>675277</td><td>1356736</td></tr>\n",
       "\t<tr><td>KEN</td><td>KE</td><td>Kenya</td><td>2020</td><td>5</td><td>670933</td><td>666410</td><td>1337343</td></tr>\n",
       "</tbody>\n",
       "</table>\n"
      ],
      "text/latex": [
       "A tibble: 6 × 8\n",
       "\\begin{tabular}{llllllll}\n",
       " iso3 & iso2 & Country & Year & Age & PopMale & PopFemale & PopTotal\\\\\n",
       " <chr> & <chr> & <chr> & <dbl> & <chr> & <dbl> & <dbl> & <dbl>\\\\\n",
       "\\hline\n",
       "\t KEN & KE & Kenya & 2020 & 0 & 707808 & 697235 & 1405043\\\\\n",
       "\t KEN & KE & Kenya & 2020 & 1 & 695585 & 686771 & 1382357\\\\\n",
       "\t KEN & KE & Kenya & 2020 & 2 & 689356 & 681644 & 1371000\\\\\n",
       "\t KEN & KE & Kenya & 2020 & 3 & 687634 & 680136 & 1367771\\\\\n",
       "\t KEN & KE & Kenya & 2020 & 4 & 681460 & 675277 & 1356736\\\\\n",
       "\t KEN & KE & Kenya & 2020 & 5 & 670933 & 666410 & 1337343\\\\\n",
       "\\end{tabular}\n"
      ],
      "text/markdown": [
       "\n",
       "A tibble: 6 × 8\n",
       "\n",
       "| iso3 &lt;chr&gt; | iso2 &lt;chr&gt; | Country &lt;chr&gt; | Year &lt;dbl&gt; | Age &lt;chr&gt; | PopMale &lt;dbl&gt; | PopFemale &lt;dbl&gt; | PopTotal &lt;dbl&gt; |\n",
       "|---|---|---|---|---|---|---|---|\n",
       "| KEN | KE | Kenya | 2020 | 0 | 707808 | 697235 | 1405043 |\n",
       "| KEN | KE | Kenya | 2020 | 1 | 695585 | 686771 | 1382357 |\n",
       "| KEN | KE | Kenya | 2020 | 2 | 689356 | 681644 | 1371000 |\n",
       "| KEN | KE | Kenya | 2020 | 3 | 687634 | 680136 | 1367771 |\n",
       "| KEN | KE | Kenya | 2020 | 4 | 681460 | 675277 | 1356736 |\n",
       "| KEN | KE | Kenya | 2020 | 5 | 670933 | 666410 | 1337343 |\n",
       "\n"
      ],
      "text/plain": [
       "  iso3 iso2 Country Year Age PopMale PopFemale PopTotal\n",
       "1 KEN  KE   Kenya   2020 0   707808  697235    1405043 \n",
       "2 KEN  KE   Kenya   2020 1   695585  686771    1382357 \n",
       "3 KEN  KE   Kenya   2020 2   689356  681644    1371000 \n",
       "4 KEN  KE   Kenya   2020 3   687634  680136    1367771 \n",
       "5 KEN  KE   Kenya   2020 4   681460  675277    1356736 \n",
       "6 KEN  KE   Kenya   2020 5   670933  666410    1337343 "
      ]
     },
     "metadata": {},
     "output_type": "display_data"
    }
   ],
   "source": [
    "pop <- raw %>%\n",
    "    filter(Location %in% countries) %>%\n",
    "    filter(Time %in% 2020:2030) %>%\n",
    "    filter(Variant == \"Medium\") %>%\n",
    "    select(\n",
    "        iso3 = ISO3_code, iso2 = ISO2_code, Country = Location, Year = Time,\n",
    "        Age = AgeGrp, PopMale, PopFemale, PopTotal      \n",
    "    ) %>%\n",
    "    mutate(\n",
    "        PopMale = PopMale * 1000,\n",
    "        PopFemale = PopFemale * 1000,\n",
    "        PopTotal = PopTotal * 1000\n",
    "    )\n",
    "\n",
    "head(pop)"
   ]
  },
  {
   "cell_type": "code",
   "execution_count": 11,
   "id": "c002798d-b23e-4cc3-8755-2b02315b60f3",
   "metadata": {},
   "outputs": [],
   "source": [
    "pop %>% write_csv(\"data/wpp_pop.csv\")"
   ]
  }
 ],
 "metadata": {
  "kernelspec": {
   "display_name": "R",
   "language": "R",
   "name": "ir"
  },
  "language_info": {
   "codemirror_mode": "r",
   "file_extension": ".r",
   "mimetype": "text/x-r-source",
   "name": "R",
   "pygments_lexer": "r",
   "version": "4.2.3"
  }
 },
 "nbformat": 4,
 "nbformat_minor": 5
}
